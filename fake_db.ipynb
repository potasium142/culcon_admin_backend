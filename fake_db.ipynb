{
 "cells": [
  {
   "cell_type": "code",
   "execution_count": 1,
   "metadata": {},
   "outputs": [],
   "source": [
    "from sqlalchemy.ext.asyncio import async_sessionmaker, create_async_engine\n",
    "import sqlalchemy as sqla\n",
    "from config import env\n",
    "\n",
    "\n",
    "engine = create_async_engine(\n",
    "    sqla.URL.create(\n",
    "        host=env.DB_URL,\n",
    "        drivername=env.DB_DRIVER,\n",
    "        username=\"postgres\",\n",
    "        password=\"postgres\",\n",
    "        # port=env.DB_PORT,\n",
    "        port=5432,\n",
    "        database=env.DB_NAME,\n",
    "    ),\n",
    "    pool_pre_ping=True,\n",
    ")\n",
    "\n",
    "ss = async_sessionmaker(\n",
    "    engine,\n",
    "    expire_on_commit=False,\n",
    ")()\n"
   ]
  },
  {
   "cell_type": "code",
   "execution_count": 3,
   "metadata": {},
   "outputs": [],
   "source": [
    "from db.postgresql import init_db\n",
    "\n",
    "await init_db()"
   ]
  },
  {
   "cell_type": "code",
   "execution_count": 2,
   "metadata": {},
   "outputs": [
    {
     "name": "stderr",
     "output_type": "stream",
     "text": [
      "/tmp/ipykernel_11169/2328573263.py:6: TqdmExperimentalWarning: Using `tqdm.autonotebook.tqdm` in notebook mode. Use `tqdm.tqdm` instead to force console mode (e.g. in jupyter console)\n",
      "  from tqdm.autonotebook import tqdm\n"
     ]
    }
   ],
   "source": [
    "from db.postgresql.models.product import (\n",
    "    Product,\n",
    "    ProductPriceHistory,\n",
    "    ProductStockHistory,\n",
    ")\n",
    "from tqdm.autonotebook import tqdm\n",
    "from datetime import datetime\n",
    "import datetime as dt"
   ]
  },
  {
   "cell_type": "code",
   "execution_count": 4,
   "metadata": {},
   "outputs": [],
   "source": [
    "MAX_PRICE_CHANGE_AMOUNT = 30\n",
    "MIN_PRICE_CHANGE_AMOUNT = 5\n",
    "\n",
    "MAX_STOCK_CHANGE_AMOUNT = 30\n",
    "MIN_STOCK_CHANGE_AMOUNT = 5\n",
    "\n",
    "MAX_ITEM_PER_ORDER = 5\n",
    "MIN_ITEM_PER_ORDER = 3\n",
    "\n",
    "MAX_AMOUNT_OF_ITEM_IN_ORDER = 5\n",
    "MIN_AMOUNT_OF_ITEM_IN_ORDER = 3\n",
    "\n",
    "MAX_PRICE = 40\n",
    "MIN_PRICE = 5\n",
    "\n",
    "MAX_SALE = 30\n",
    "MIN_SALE = 0\n",
    "\n",
    "MAX_PRICE_CHANGE_INTERVAL_DAY = 70\n",
    "MIN_PRICE_CHANGE_INTERVAL_DAY = 20\n",
    "\n",
    "\n",
    "MAX_RESTOCK_INTERVAL = 70\n",
    "MIN_RESTOCK_INTERVAL = 20"
   ]
  },
  {
   "cell_type": "code",
   "execution_count": 3,
   "metadata": {},
   "outputs": [],
   "source": [
    "USER_AMOUNT = 100\n",
    "\n",
    "STAFF_AMOUNT = 10\n",
    "SHIPPER_AMOUNT = 10\n",
    "\n",
    "MAX_ORDER_PER_USER = 10\n",
    "MIN_ORDER_PER_USER = 2\n",
    "\n",
    "MAX_ORDER_INTERVAL_DAY = 14\n",
    "MIN_ORDER_INTERVAL_DAY = 2"
   ]
  },
  {
   "cell_type": "code",
   "execution_count": 5,
   "metadata": {},
   "outputs": [],
   "source": [
    "import random\n",
    "from passlib.context import CryptContext\n",
    "import faker\n",
    "\n",
    "from db.postgresql.models.user_account import UserAccount, UserAccountStatus\n",
    "\n",
    "fake = faker.Faker()"
   ]
  },
  {
   "cell_type": "code",
   "execution_count": 6,
   "metadata": {},
   "outputs": [
    {
     "name": "stderr",
     "output_type": "stream",
     "text": [
      "(trapped) error reading bcrypt version\n",
      "Traceback (most recent call last):\n",
      "  File \"/usr/local/lib/python3.10/site-packages/passlib/handlers/bcrypt.py\", line 620, in _load_backend_mixin\n",
      "    version = _bcrypt.__about__.__version__\n",
      "AttributeError: module 'bcrypt' has no attribute '__about__'\n"
     ]
    }
   ],
   "source": [
    "pwd_context = CryptContext(schemes=[\"bcrypt\"], deprecated=\"auto\")\n",
    "\n",
    "\n",
    "def generate_phone() -> str:\n",
    "    num_arr = [\"0\"]\n",
    "\n",
    "    for _ in range(9):\n",
    "        num_arr.append(str(random.randint(0, 9)))\n",
    "\n",
    "    return \"\".join(num_arr)\n",
    "\n",
    "\n",
    "user_password = pwd_context.hash(\"password\")"
   ]
  },
  {
   "cell_type": "code",
   "execution_count": null,
   "metadata": {},
   "outputs": [
    {
     "data": {
      "application/vnd.jupyter.widget-view+json": {
       "model_id": "8706a7dc9c704296b2cdcbcae60ab0e9",
       "version_major": 2,
       "version_minor": 0
      },
      "text/plain": [
       "Adding customer account:   0%|          | 0/100 [00:00<?, ?it/s]"
      ]
     },
     "metadata": {},
     "output_type": "display_data"
    }
   ],
   "source": [
    "import uuid\n",
    "\n",
    "pbar = tqdm(desc=\"Adding customer account\", total=USER_AMOUNT)\n",
    "\n",
    "async with ss.begin():\n",
    "    for _ in range(USER_AMOUNT):\n",
    "        username = fake.user_name()\n",
    "        id = str(uuid.uuid4())\n",
    "\n",
    "        staff = UserAccount(\n",
    "            id=id,\n",
    "            email=fake.email(),\n",
    "            username=username,\n",
    "            profile_name=username,\n",
    "            password=user_password,\n",
    "            token=username,\n",
    "            status=random.choices(\n",
    "                [UserAccountStatus.NORMAL, UserAccountStatus.BANNED],\n",
    "                [0.9, 0.1],\n",
    "            )[0],\n",
    "            address=fake.address(),\n",
    "            profile_pic_uri=\"defaultProfile\",\n",
    "            profile_description=\" \",\n",
    "            phone=generate_phone(),\n",
    "            bookmarked_posts=[\"\"],\n",
    "        )\n",
    "\n",
    "        pbar.update()\n",
    "\n",
    "        ss.add(staff)\n",
    "\n",
    "    await ss.flush()\n"
   ]
  },
  {
   "cell_type": "code",
   "execution_count": 12,
   "metadata": {},
   "outputs": [],
   "source": [
    "import uuid\n",
    "\n",
    "from db.postgresql.models.staff_account import (\n",
    "    AccountStatus,\n",
    "    AccountType,\n",
    "    EmployeeInfo,\n",
    "    StaffAccount,\n",
    ")\n",
    "\n",
    "\n",
    "async def generate_staff(type: AccountType, amount: int):\n",
    "    pbar = tqdm(desc=\"Adding customer account\", total=amount - 1)\n",
    "\n",
    "    async with ss.begin():\n",
    "        for _ in range(amount):\n",
    "            username = fake.user_name()\n",
    "            id = str(uuid.uuid4())\n",
    "\n",
    "            staff = StaffAccount(\n",
    "                id=id,\n",
    "                username=username,\n",
    "                password=user_password,\n",
    "                type=type,\n",
    "                token=username,\n",
    "                status=random.choices(\n",
    "                    [\n",
    "                        AccountStatus.ACTIVE,\n",
    "                        AccountStatus.DISABLE,\n",
    "                    ],\n",
    "                    [0.9, 0.1],\n",
    "                )[0],\n",
    "            )\n",
    "\n",
    "            info = EmployeeInfo(\n",
    "                account_id=id,\n",
    "                ssn=generate_phone(),\n",
    "                phonenumber=generate_phone(),\n",
    "                realname=fake.name(),\n",
    "                email=fake.email(),\n",
    "                dob=fake.date_of_birth(),\n",
    "            )\n",
    "\n",
    "            pbar.update()\n",
    "\n",
    "            ss.add(staff)\n",
    "            ss.add(info)\n",
    "\n",
    "        await ss.flush()"
   ]
  },
  {
   "cell_type": "code",
   "execution_count": null,
   "metadata": {},
   "outputs": [
    {
     "data": {
      "application/vnd.jupyter.widget-view+json": {
       "model_id": "e66cf5e36e0f451e8d3323f3885a8b1d",
       "version_major": 2,
       "version_minor": 0
      },
      "text/plain": [
       "Adding customer account:   0%|          | 0/9 [00:00<?, ?it/s]"
      ]
     },
     "metadata": {},
     "output_type": "display_data"
    }
   ],
   "source": [
    "await generate_staff(AccountType.STAFF, STAFF_AMOUNT)\n"
   ]
  },
  {
   "cell_type": "code",
   "execution_count": null,
   "metadata": {},
   "outputs": [],
   "source": []
  },
  {
   "cell_type": "code",
   "execution_count": 8,
   "metadata": {},
   "outputs": [],
   "source": [
    "async with ss.begin():\n",
    "    product_amount = await ss.scalar(sqla.select(sqla.func.count(Product.id))) or 0\n",
    "    product_ids = (await ss.scalars(sqla.select(Product.id))).all()\n",
    "    account_ids = (await ss.scalars(sqla.select(UserAccount.id))).all()\n",
    "    account_amount = (\n",
    "        await ss.scalar(\n",
    "            sqla.select(\n",
    "                sqla.func.count(\n",
    "                    UserAccount.id,\n",
    "                )\n",
    "            )\n",
    "        )\n",
    "        or 0\n",
    "    )"
   ]
  },
  {
   "cell_type": "code",
   "execution_count": 15,
   "metadata": {},
   "outputs": [
    {
     "data": {
      "application/vnd.jupyter.widget-view+json": {
       "model_id": "3a8c4367fa4646f199e5b90cf17e38c9",
       "version_major": 2,
       "version_minor": 0
      },
      "text/plain": [
       "  0%|          | 0/22 [00:00<?, ?it/s]"
      ]
     },
     "metadata": {},
     "output_type": "display_data"
    },
    {
     "data": {
      "application/vnd.jupyter.widget-view+json": {
       "model_id": "5e341c8d550e4ffd91a7ec682d6fe540",
       "version_major": 2,
       "version_minor": 0
      },
      "text/plain": [
       "0it [00:00, ?it/s]"
      ]
     },
     "metadata": {},
     "output_type": "display_data"
    }
   ],
   "source": [
    "async with ss.begin():\n",
    "    pbar_prod = tqdm(total=product_amount - 1)\n",
    "    pbar_sub = tqdm()\n",
    "\n",
    "    current_day = datetime.now()\n",
    "\n",
    "    for prod in product_ids:\n",
    "        pbar_prod.set_description(f\"Product : {prod}\")\n",
    "\n",
    "        price_amount = random.randint(\n",
    "            MIN_PRICE_CHANGE_AMOUNT,\n",
    "            MAX_PRICE_CHANGE_AMOUNT,\n",
    "        )\n",
    "        stock_amount = random.randint(\n",
    "            MIN_STOCK_CHANGE_AMOUNT,\n",
    "            MAX_STOCK_CHANGE_AMOUNT,\n",
    "        )\n",
    "\n",
    "        pbar_sub.reset(price_amount)\n",
    "        pbar_sub.set_description(\"Generate price\")\n",
    "\n",
    "        prev_date = current_day\n",
    "        for _ in range(price_amount):\n",
    "            price = round(random.uniform(MIN_PRICE, MAX_PRICE), 2)\n",
    "            sale_percent = round(random.uniform(MIN_SALE, MAX_SALE), 2)\n",
    "\n",
    "            day_offset = dt.timedelta(\n",
    "                days=random.randint(\n",
    "                    MIN_PRICE_CHANGE_INTERVAL_DAY, MAX_PRICE_CHANGE_INTERVAL_DAY\n",
    "                )\n",
    "            )\n",
    "\n",
    "            prev_date -= day_offset\n",
    "\n",
    "            price_history = ProductPriceHistory(\n",
    "                product_id=prod,\n",
    "                date=prev_date,\n",
    "                price=price,\n",
    "                sale_percent=sale_percent,\n",
    "            )\n",
    "\n",
    "            ss.add(price_history)\n",
    "\n",
    "            pbar_sub.update()\n",
    "\n",
    "        pbar_sub.reset(stock_amount)\n",
    "        pbar_sub.set_description(\"Generate stock\")\n",
    "        prev_date = current_day\n",
    "        for _ in range(stock_amount):\n",
    "            price = round(random.uniform(MIN_PRICE, MAX_PRICE) * 0.7, 2)\n",
    "            stock = random.randint(\n",
    "                MIN_STOCK_CHANGE_AMOUNT,\n",
    "                MAX_STOCK_CHANGE_AMOUNT,\n",
    "            )\n",
    "            day_offset = dt.timedelta(\n",
    "                days=random.randint(MIN_RESTOCK_INTERVAL, MAX_RESTOCK_INTERVAL)\n",
    "            )\n",
    "\n",
    "            prev_date -= day_offset\n",
    "            stock = ProductStockHistory(\n",
    "                product_id=prod,\n",
    "                in_stock=stock,\n",
    "                in_price=price,\n",
    "                date=prev_date,\n",
    "            )\n",
    "\n",
    "            ss.add(stock)\n",
    "\n",
    "            pbar_sub.update()\n",
    "\n",
    "        pbar_prod.update()\n",
    "\n",
    "    await ss.flush()"
   ]
  },
  {
   "cell_type": "code",
   "execution_count": 9,
   "metadata": {},
   "outputs": [
    {
     "data": {
      "application/vnd.jupyter.widget-view+json": {
       "model_id": "d28d1693b63d458cb5e2a9e7c1fc4ed5",
       "version_major": 2,
       "version_minor": 0
      },
      "text/plain": [
       "Generate per user:   0%|          | 0/99 [00:00<?, ?it/s]"
      ]
     },
     "metadata": {},
     "output_type": "display_data"
    },
    {
     "data": {
      "application/vnd.jupyter.widget-view+json": {
       "model_id": "5a8d9ba4831d40fb934b5aae853d16a9",
       "version_major": 2,
       "version_minor": 0
      },
      "text/plain": [
       "Order:: 0it [00:00, ?it/s]"
      ]
     },
     "metadata": {},
     "output_type": "display_data"
    }
   ],
   "source": [
    "import uuid\n",
    "from db.postgresql.models.order_history import (\n",
    "    OrderHistory,\n",
    "    OrderHistoryItems,\n",
    "    OrderStatus,\n",
    "    PaymentStatus,\n",
    ")\n",
    "from db.postgresql.models.transaction import PaymentTransaction\n",
    "\n",
    "pbar = tqdm(total=account_amount - 1, desc=\"Generate per user\")\n",
    "pbar_sub = tqdm(desc=\"Order:\")\n",
    "async with ss.begin():\n",
    "    for i in account_ids:\n",
    "        order_amount = random.randint(MIN_ORDER_PER_USER, MAX_ORDER_PER_USER)\n",
    "\n",
    "        current_day = datetime.now()\n",
    "\n",
    "        prev_date = current_day\n",
    "\n",
    "        pbar_sub.reset(order_amount - 1)\n",
    "        for _ in range(order_amount):\n",
    "            item_for_order = random.randint(\n",
    "                MIN_ITEM_PER_ORDER,\n",
    "                MAX_ITEM_PER_ORDER,\n",
    "            )\n",
    "\n",
    "            day_offset = dt.timedelta(\n",
    "                days=random.randint(\n",
    "                    MIN_ORDER_INTERVAL_DAY,\n",
    "                    MAX_ORDER_INTERVAL_DAY,\n",
    "                )\n",
    "            )\n",
    "\n",
    "            prev_date -= day_offset\n",
    "\n",
    "            prods = list(\n",
    "                (\n",
    "                    await ss.execute(\n",
    "                        sqla.select(ProductPriceHistory.product_id)\n",
    "                        .filter(ProductPriceHistory.date < prev_date)\n",
    "                        .distinct(ProductPriceHistory.product_id)\n",
    "                    )\n",
    "                ).scalars()\n",
    "            )\n",
    "\n",
    "            if len(prods) < item_for_order:\n",
    "                break\n",
    "\n",
    "            order_items = random.sample(prods, item_for_order)\n",
    "\n",
    "            total_price = 0\n",
    "\n",
    "            order_id = uuid.uuid4()\n",
    "\n",
    "            order_items_db = []\n",
    "            for item in order_items:\n",
    "                quantity = random.randint(1, 5)\n",
    "                prod_price = await ss.scalar(\n",
    "                    sqla.select(ProductPriceHistory)\n",
    "                    .filter(\n",
    "                        ProductPriceHistory.product_id == item,\n",
    "                        ProductPriceHistory.date < prev_date,\n",
    "                    )\n",
    "                    .order_by(ProductPriceHistory.date.desc())\n",
    "                    .limit(1)\n",
    "                )\n",
    "\n",
    "                if not prod_price:\n",
    "                    raise Exception()\n",
    "\n",
    "                total_price += (prod_price.price * prod_price.sale_percent) * quantity\n",
    "\n",
    "                order_items_db.append(\n",
    "                    OrderHistoryItems(\n",
    "                        order_history_id=order_id,\n",
    "                        product_id=prod_price.product_id,\n",
    "                        date=prod_price.date,\n",
    "                        quantity=quantity,\n",
    "                    )\n",
    "                )\n",
    "\n",
    "            total_price = round(total_price, 2)\n",
    "            order = OrderHistory(\n",
    "                id=order_id,\n",
    "                user_id=i,\n",
    "                order_date=prev_date,\n",
    "                delivery_address=fake.address(),\n",
    "                note=fake.sentence(5),\n",
    "                total_price=total_price,\n",
    "                receiver=fake.name(),\n",
    "                phonenumber=fake.phone_number(),\n",
    "                coupon=None,\n",
    "                payment_method=\"COD\",\n",
    "                payment_status=PaymentStatus.PENDING,\n",
    "                order_status=random.choice([\n",
    "                    OrderStatus.CANCELLED,\n",
    "                    OrderStatus.ON_CONFIRM,\n",
    "                    OrderStatus.ON_PROCESSING,\n",
    "                    OrderStatus.ON_SHIPPING,\n",
    "                    OrderStatus.SHIPPED,\n",
    "                ]),\n",
    "            )\n",
    "\n",
    "            payment = PaymentTransaction(\n",
    "                order_id=order.id,\n",
    "                create_time=order.order_date,\n",
    "                amount=order.total_price,\n",
    "                status=PaymentStatus.RECEIVED,\n",
    "            )\n",
    "\n",
    "            ss.add(order)\n",
    "            ss.add_all(order_items_db)\n",
    "            ss.add(payment)\n",
    "            pbar_sub.update()\n",
    "        pbar.update()\n",
    "\n",
    "    await ss.flush()\n"
   ]
  },
  {
   "cell_type": "code",
   "execution_count": 12,
   "metadata": {},
   "outputs": [
    {
     "data": {
      "application/vnd.jupyter.widget-view+json": {
       "model_id": "7bd05f2f83534a03af728b45a00df1db",
       "version_major": 2,
       "version_minor": 0
      },
      "text/plain": [
       "Generate per user:   0%|          | 0/99 [00:00<?, ?it/s]"
      ]
     },
     "metadata": {},
     "output_type": "display_data"
    },
    {
     "data": {
      "application/vnd.jupyter.widget-view+json": {
       "model_id": "095d168e50014ada864a1733a0832fce",
       "version_major": 2,
       "version_minor": 0
      },
      "text/plain": [
       "Order:: 0it [00:00, ?it/s]"
      ]
     },
     "metadata": {},
     "output_type": "display_data"
    }
   ],
   "source": [
    "import uuid\n",
    "from db.postgresql.models.order_history import (\n",
    "    OrderHistory,\n",
    "    OrderHistoryItems,\n",
    "    OrderStatus,\n",
    "    PaymentStatus,\n",
    ")\n",
    "from db.postgresql.models.transaction import PaymentTransaction\n",
    "\n",
    "pbar = tqdm(total=account_amount - 1, desc=\"Generate per user\")\n",
    "pbar_sub = tqdm(desc=\"Order:\")\n",
    "async with ss.begin():\n",
    "    orders = await ss.scalars(sqla.select(OrderHistory))\n",
    "\n",
    "    for order in orders:\n",
    "\n",
    "\n",
    "    await ss.flush()"
   ]
  }
 ],
 "metadata": {
  "kernelspec": {
   "display_name": "Python 3",
   "language": "python",
   "name": "python3"
  },
  "language_info": {
   "codemirror_mode": {
    "name": "ipython",
    "version": 3
   },
   "file_extension": ".py",
   "mimetype": "text/x-python",
   "name": "python",
   "nbconvert_exporter": "python",
   "pygments_lexer": "ipython3",
   "version": "3.10.15"
  }
 },
 "nbformat": 4,
 "nbformat_minor": 2
}
