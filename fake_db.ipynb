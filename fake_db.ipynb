{
 "cells": [
  {
   "cell_type": "code",
   "execution_count": 1,
   "metadata": {},
   "outputs": [],
   "source": [
    "from sqlalchemy.ext.asyncio import async_sessionmaker, create_async_engine\n",
    "import sqlalchemy as sqla\n",
    "from config import env\n",
    "\n",
    "\n",
    "engine = create_async_engine(\n",
    "    sqla.URL.create(\n",
    "        host=env.DB_URL,\n",
    "        drivername=env.DB_DRIVER,\n",
    "        username=env.DB_USERNAME,\n",
    "        password=env.DB_PASSWORD,\n",
    "        # port=env.DB_PORT,\n",
    "        port=5431,\n",
    "        database=env.DB_NAME,\n",
    "    ),\n",
    "    pool_pre_ping=True,\n",
    ")\n",
    "\n",
    "ss = async_sessionmaker(\n",
    "    engine,\n",
    "    expire_on_commit=False,\n",
    ")()\n"
   ]
  },
  {
   "cell_type": "code",
   "execution_count": 2,
   "metadata": {},
   "outputs": [
    {
     "name": "stderr",
     "output_type": "stream",
     "text": [
      "/tmp/ipykernel_25446/2328573263.py:6: TqdmExperimentalWarning: Using `tqdm.autonotebook.tqdm` in notebook mode. Use `tqdm.tqdm` instead to force console mode (e.g. in jupyter console)\n",
      "  from tqdm.autonotebook import tqdm\n"
     ]
    }
   ],
   "source": [
    "from db.postgresql.models.product import (\n",
    "    Product,\n",
    "    ProductPriceHistory,\n",
    "    ProductStockHistory,\n",
    ")\n",
    "from tqdm.autonotebook import tqdm\n",
    "from datetime import datetime\n",
    "import datetime as dt"
   ]
  },
  {
   "cell_type": "code",
   "execution_count": 3,
   "metadata": {},
   "outputs": [],
   "source": [
    "MAX_PRICE_CHANGE_AMOUNT = 30\n",
    "MIN_PRICE_CHANGE_AMOUNT = 5\n",
    "\n",
    "MAX_STOCK_CHANGE_AMOUNT = 30\n",
    "MIN_STOCK_CHANGE_AMOUNT = 5\n",
    "\n",
    "MAX_ITEM_PER_ORDER = 10\n",
    "MIN_ITEM_PER_ORDER = 3\n",
    "\n",
    "MAX_AMOUNT_OF_ITEM_IN_ORDER = 10\n",
    "MIN_AMOUNT_OF_ITEM_IN_ORDER = 10\n",
    "\n",
    "MAX_PRICE = 40\n",
    "MIN_PRICE = 5\n",
    "\n",
    "MAX_SALE = 30\n",
    "MIN_SALE = 0\n",
    "\n",
    "MAX_PRICE_CHANGE_INTERVAL_DAY = 70\n",
    "MIN_PRICE_CHANGE_INTERVAL_DAY = 20\n",
    "\n",
    "\n",
    "MAX_RESTOCK_INTERVAL = 70\n",
    "MIN_RESTOCK_INTERVAL = 20"
   ]
  },
  {
   "cell_type": "code",
   "execution_count": 4,
   "metadata": {},
   "outputs": [],
   "source": [
    "import random"
   ]
  },
  {
   "cell_type": "code",
   "execution_count": 24,
   "metadata": {},
   "outputs": [],
   "source": [
    "async with ss.begin():\n",
    "    product_amount = await ss.scalar(sqla.select(sqla.func.count(Product.id))) or 0\n",
    "    product_ids = (await ss.scalars(sqla.select(Product.id))).all()"
   ]
  },
  {
   "cell_type": "code",
   "execution_count": 25,
   "metadata": {},
   "outputs": [
    {
     "data": {
      "application/vnd.jupyter.widget-view+json": {
       "model_id": "bd87999b6f4b41f0b9f208df98da5b20",
       "version_major": 2,
       "version_minor": 0
      },
      "text/plain": [
       "  0%|          | 0/22 [00:00<?, ?it/s]"
      ]
     },
     "metadata": {},
     "output_type": "display_data"
    },
    {
     "data": {
      "application/vnd.jupyter.widget-view+json": {
       "model_id": "2292db6766dd4f6ab61390957c7695eb",
       "version_major": 2,
       "version_minor": 0
      },
      "text/plain": [
       "0it [00:00, ?it/s]"
      ]
     },
     "metadata": {},
     "output_type": "display_data"
    }
   ],
   "source": [
    "async with ss.begin():\n",
    "    pbar_prod = tqdm(total=product_amount - 1)\n",
    "    pbar_sub = tqdm()\n",
    "\n",
    "    current_day = datetime.now()\n",
    "\n",
    "    for prod in product_ids:\n",
    "        pbar_prod.set_description(f\"Product : {prod}\")\n",
    "\n",
    "        price_amount = random.randint(\n",
    "            MIN_PRICE_CHANGE_AMOUNT,\n",
    "            MAX_PRICE_CHANGE_AMOUNT,\n",
    "        )\n",
    "        stock_amount = random.randint(\n",
    "            MIN_STOCK_CHANGE_AMOUNT,\n",
    "            MAX_STOCK_CHANGE_AMOUNT,\n",
    "        )\n",
    "\n",
    "        pbar_sub.reset(price_amount)\n",
    "        pbar_sub.set_description(\"Generate price\")\n",
    "\n",
    "        prev_date = current_day\n",
    "        for _ in range(price_amount):\n",
    "            price = round(random.uniform(MIN_PRICE, MAX_PRICE), 2)\n",
    "            sale_percent = round(random.uniform(MIN_SALE, MAX_SALE), 2)\n",
    "\n",
    "            day_offset = dt.timedelta(\n",
    "                days=random.randint(\n",
    "                    MIN_PRICE_CHANGE_INTERVAL_DAY, MAX_PRICE_CHANGE_INTERVAL_DAY\n",
    "                )\n",
    "            )\n",
    "\n",
    "            prev_date -= day_offset\n",
    "\n",
    "            price_history = ProductPriceHistory(\n",
    "                product_id=prod,\n",
    "                date=prev_date,\n",
    "                price=price,\n",
    "                sale_percent=sale_percent,\n",
    "            )\n",
    "\n",
    "            ss.add(price_history)\n",
    "\n",
    "            pbar_sub.update()\n",
    "\n",
    "        pbar_sub.reset(stock_amount)\n",
    "        pbar_sub.set_description(\"Generate stock\")\n",
    "        prev_date = current_day\n",
    "        for _ in range(stock_amount):\n",
    "            price = round(random.uniform(MIN_PRICE, MAX_PRICE) * 0.7, 2)\n",
    "            stock = random.randint(\n",
    "                MIN_STOCK_CHANGE_AMOUNT,\n",
    "                MAX_STOCK_CHANGE_AMOUNT,\n",
    "            )\n",
    "            day_offset = dt.timedelta(\n",
    "                days=random.randint(MIN_RESTOCK_INTERVAL, MAX_RESTOCK_INTERVAL)\n",
    "            )\n",
    "\n",
    "            prev_date -= day_offset\n",
    "            stock = ProductStockHistory(\n",
    "                product_id=prod,\n",
    "                in_stock=stock,\n",
    "                in_price=price,\n",
    "                date=prev_date,\n",
    "            )\n",
    "\n",
    "            ss.add(stock)\n",
    "\n",
    "            pbar_sub.update()\n",
    "\n",
    "        pbar_prod.update()\n",
    "\n",
    "    await ss.flush()"
   ]
  }
 ],
 "metadata": {
  "language_info": {
   "name": "python"
  }
 },
 "nbformat": 4,
 "nbformat_minor": 2
}
